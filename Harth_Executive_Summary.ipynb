{
 "cells": [
  {
   "cell_type": "code",
   "execution_count": 19,
   "id": "61595c60",
   "metadata": {},
   "outputs": [],
   "source": [
    "import pandas as pd\n",
    "import numpy as np\n",
    "# load for visuals\n",
    "import seaborn as sns\n",
    "import matplotlib.pyplot as plt\n",
    "import plotly.express as px\n",
    "from IPython.core.interactiveshell import InteractiveShell\n",
    "InteractiveShell.ast_node_interactivity = \"all\""
   ]
  },
  {
   "cell_type": "markdown",
   "id": "ff6820fc",
   "metadata": {},
   "source": [
    "\n",
    "<h1 style=\"font-size: 60px; color: blue; text-align:center\">Analyzing Fatal Police Shootings in the US Since 2015</h1>\n"
   ]
  },
  {
   "cell_type": "markdown",
   "id": "a6f2c17c",
   "metadata": {},
   "source": [
    "<h1 style=\"font-size: 30px; color: red; text-align:center\">Author: Ryan Harth</h1>"
   ]
  },
  {
   "cell_type": "markdown",
   "id": "90fe6773",
   "metadata": {},
   "source": [
    "# INTRODUCTION"
   ]
  },
  {
   "cell_type": "markdown",
   "id": "3feb4172",
   "metadata": {},
   "source": [
    "The following is an analysis on law enforcement shootings over the past 7-years in the United States where the individual shot died. \n",
    "\n",
    "The Rule of Law is a critical fiber within the fabric of of US society and is largely what keeps much of daily life safe and functioning. \n",
    "\n",
    "The Rule of Law is enforced through policing and has come under intense scrutinay in the last 3-5 years largely due to high-profile events many of which include law-enforcement involved shootings. Especially those where the individual died. \n",
    "\n",
    "Despite these events actually being extremely rare from a statistical perspective, each one tends to have a tremendous impact (at least for the initial time period) on society. Protests, riots, and other events along with impact on elections and ultimately how people feel in their daily lives are all a direct result of these events. \n",
    "\n",
    "Better understanding what is occuring from a \"math\" & \"data\" perspective that is objective has the potential to abate much of the fear and to help drive a realisitic discussion on how to at least reduce and at best eliminate these type of encounters. "
   ]
  },
  {
   "cell_type": "markdown",
   "id": "7741bfad",
   "metadata": {},
   "source": [
    "## WHY THIS DATA?"
   ]
  },
  {
   "cell_type": "markdown",
   "id": "4777f38f",
   "metadata": {},
   "source": [
    "I chose this data because I have a stong interest in law enforcement and more speciffically refinment of policing. \n",
    "\n",
    "I was a police officer for 3-years, my father was a police officer for 28-years, and my great grandfather was a Chicago Police officer.  \n",
    "\n",
    "I have done previous statistical/analytical academic research into violence in the US and I remain passionate about the topic. \n",
    "\n",
    "My previous research into violence was geographically based. I would like to sort this data based on loaction and conduct analysis from there on the variables available (armed, mental illness, age, fleeing, body camera) and build regression models to determine and statistical signifigance between the variables. "
   ]
  },
  {
   "cell_type": "markdown",
   "id": "bbee6e6c",
   "metadata": {},
   "source": [
    "## HYPOTHESIS"
   ]
  },
  {
   "cell_type": "markdown",
   "id": "84c41dd8",
   "metadata": {},
   "source": [
    "Broadly speaking, I want to better understand the variables that impact law enforcement engagements that end up in fatal shootings. What are the ACTUAL contributing factors based on math & data? If we can better understand this then it might be possible to better inform law enforcement officers, so that they understand the TRUE contributing factors to these engagements ending in a death in order to avoid that outcome. \n",
    "\n",
    "### Hypothesis = There will be a correlation between the age, gender, and race of the indivdual. The percentage by race of individuals shot and skilled will be generally within the population precentages when observed in specific geographic areas. "
   ]
  },
  {
   "cell_type": "markdown",
   "id": "32a478f1",
   "metadata": {},
   "source": [
    "## What hunch(es) did you have about the data?"
   ]
  },
  {
   "cell_type": "markdown",
   "id": "2fb9ac3c",
   "metadata": {},
   "source": [
    "- Most of the individuals will be male\n",
    "- Most of the individuals will have been armed\n",
    "- Most of the individuals will be white\n",
    "- The majority of the shootings will have occured in major metro areas (population over 100k)\n",
    "- Most of the individuals were not fleeing\n",
    "- The average age of the individuals will be 37"
   ]
  },
  {
   "cell_type": "markdown",
   "id": "67729ff3",
   "metadata": {},
   "source": [
    "# DATA EXPLAINED"
   ]
  },
  {
   "cell_type": "markdown",
   "id": "021c5ccd",
   "metadata": {},
   "source": [
    "### Link to Data Set: https://www.washingtonpost.com/graphics/investigations/police-shootings-database/"
   ]
  },
  {
   "cell_type": "markdown",
   "id": "80e2c995",
   "metadata": {},
   "source": [
    "### The data was collected by the Washington Post by culling local news reports, law enforcement websites and social media, and by monitoring independent databases such as Killed by Police and Fatal Encounters.\n",
    "\n",
    "The data set is a log of every fatal law enforcement involved shooting from 2015-present built by the Washington Post.\n",
    "\n",
    "The data includes the age, gender, and race of the indivudal killed as well as the date and location of the incident. Further, the data includes the manner of death, whether there were signs of mental illness, the individual was fleeing, and if the police officer had on a body camera. "
   ]
  },
  {
   "cell_type": "markdown",
   "id": "e6239b5c",
   "metadata": {},
   "source": [
    "## HOW I CLEANED THE DATA"
   ]
  },
  {
   "cell_type": "markdown",
   "id": "9ecd0c66",
   "metadata": {},
   "source": [
    "For the initial EDA, I dropped the id, & location columns (I plan to add the location columns back in a later time)\n",
    "\n",
    "I checked for duplicates and found none\n",
    "\n",
    "I dropped the name column\n",
    "\n",
    "Because the columns with missing values are all strings except age, I replaced the NaN values with a \"U\" for unknown (0 in age)\n",
    "\n",
    "Because less than 2% of the individuals have a 0 age, I dropped those rows"
   ]
  },
  {
   "cell_type": "code",
   "execution_count": 21,
   "id": "1feb7bd2",
   "metadata": {},
   "outputs": [],
   "source": [
    "df = pd.read_excel('fatal-police-shootings-data.xlsm')\n",
    "df.drop('id', inplace=True, axis=1)\n",
    "df.drop('longitude', inplace=True, axis=1)\n",
    "df.drop('latitude', inplace=True, axis=1)\n",
    "df.drop('is_geocoding_exact', inplace=True, axis=1)\n",
    "# Fill in all NaN with 'U'\n",
    "df['name'] = df['name'].fillna('U')\n",
    "# Drop all the 'U' values and put it into a new DF\n",
    "df_duplicates = df.drop(df[df['name'] == 'U'].index, inplace = True )\n",
    "# Pull out any duplicates\n",
    "fd_duplicates = df[df['name'].duplicated() == True]\n",
    "# Now that I know there are no duplicates I will drop the name column\n",
    "df.drop('name', inplace=True, axis=1)\n",
    "# I am going to replace the NaN values with a \"U\" for unknown (0 in age)\n",
    "df['armed'] = df['armed'].fillna('U')\n",
    "df['age'] = df['age'].fillna(0)\n",
    "df['gender'] = df['gender'].fillna('U')\n",
    "df['race'] = df['race'].fillna('U')\n",
    "df['flee'] = df['flee'].fillna('U')\n",
    "# I have to convert the age column to int\n",
    "df['age'] = df['age'].astype(int)"
   ]
  },
  {
   "cell_type": "markdown",
   "id": "fdef5511",
   "metadata": {},
   "source": [
    "## DATA DICTIONARY"
   ]
  },
  {
   "cell_type": "markdown",
   "id": "db714f7e",
   "metadata": {},
   "source": [
    "### - 'date' = The date that the shooting occured (datetime64[ns])\n",
    "### - 'manner_of_death' = indicates wether the individual was \"shot\" or \"shot and tasered\" (string)\n",
    "### - 'armed' = subject had a weapon (\"type\") or \"unarmed\" (string)\n",
    "### - 'age' = subjects age when they died (float64)\n",
    "### - 'gender' = subjects biological gender \"M\" or \"F\" (string)\n",
    "### - 'race' = White \"W\", Asian \"A\", Hispanic \"H\", or Black \"B\" (string)\n",
    "### - 'city' = location of the shooting (string)\n",
    "### - 'state' = location of the shooting (string)\n",
    "### - 'signs_of_mental_illness' = \"TRUE\" or \"FALSE\" (bool)\n",
    "### - 'threat_level' = \"attack\", \"undetermined\", \"other\" (string)\n",
    "### - 'flee' = \"method\" or \"Not fleeing\" (string)\n",
    "### - 'body_camera' = \"TRUE\" or \"FALSE\" (bool)"
   ]
  },
  {
   "cell_type": "markdown",
   "id": "3c49ee12",
   "metadata": {},
   "source": [
    "# DATA --> FLOW --> FINDINGS"
   ]
  },
  {
   "cell_type": "markdown",
   "id": "ac57b805",
   "metadata": {},
   "source": [
    "Read in your final data. \n",
    "\n",
    "Include code that shows your most important findings. \n",
    "\n",
    "Select at least five analytical processes that highlight your data and your findings. \n",
    "\n",
    "Remember that what you are showing in code is related to your hypotheses/hunches. \n",
    "\n",
    "This section is a combination of code and a summary of findings. \n",
    "\n",
    "Note that all findings should be clearly written in Markdown cells and should be adjacent to the code cells being explained. "
   ]
  },
  {
   "cell_type": "code",
   "execution_count": 22,
   "id": "298e871e",
   "metadata": {},
   "outputs": [
    {
     "data": {
      "text/html": [
       "<div>\n",
       "<style scoped>\n",
       "    .dataframe tbody tr th:only-of-type {\n",
       "        vertical-align: middle;\n",
       "    }\n",
       "\n",
       "    .dataframe tbody tr th {\n",
       "        vertical-align: top;\n",
       "    }\n",
       "\n",
       "    .dataframe thead th {\n",
       "        text-align: right;\n",
       "    }\n",
       "</style>\n",
       "<table border=\"1\" class=\"dataframe\">\n",
       "  <thead>\n",
       "    <tr style=\"text-align: right;\">\n",
       "      <th></th>\n",
       "      <th>date</th>\n",
       "      <th>manner_of_death</th>\n",
       "      <th>armed</th>\n",
       "      <th>age</th>\n",
       "      <th>gender</th>\n",
       "      <th>race</th>\n",
       "      <th>city</th>\n",
       "      <th>state</th>\n",
       "      <th>signs_of_mental_illness</th>\n",
       "      <th>threat_level</th>\n",
       "      <th>flee</th>\n",
       "      <th>body_camera</th>\n",
       "    </tr>\n",
       "  </thead>\n",
       "  <tbody>\n",
       "    <tr>\n",
       "      <th>0</th>\n",
       "      <td>2015-01-02</td>\n",
       "      <td>shot</td>\n",
       "      <td>gun</td>\n",
       "      <td>53</td>\n",
       "      <td>M</td>\n",
       "      <td>A</td>\n",
       "      <td>Shelton</td>\n",
       "      <td>WA</td>\n",
       "      <td>True</td>\n",
       "      <td>attack</td>\n",
       "      <td>Not fleeing</td>\n",
       "      <td>False</td>\n",
       "    </tr>\n",
       "    <tr>\n",
       "      <th>1</th>\n",
       "      <td>2015-01-02</td>\n",
       "      <td>shot</td>\n",
       "      <td>gun</td>\n",
       "      <td>47</td>\n",
       "      <td>M</td>\n",
       "      <td>W</td>\n",
       "      <td>Aloha</td>\n",
       "      <td>OR</td>\n",
       "      <td>False</td>\n",
       "      <td>attack</td>\n",
       "      <td>Not fleeing</td>\n",
       "      <td>False</td>\n",
       "    </tr>\n",
       "    <tr>\n",
       "      <th>2</th>\n",
       "      <td>2015-01-03</td>\n",
       "      <td>shot and Tasered</td>\n",
       "      <td>unarmed</td>\n",
       "      <td>23</td>\n",
       "      <td>M</td>\n",
       "      <td>H</td>\n",
       "      <td>Wichita</td>\n",
       "      <td>KS</td>\n",
       "      <td>False</td>\n",
       "      <td>other</td>\n",
       "      <td>Not fleeing</td>\n",
       "      <td>False</td>\n",
       "    </tr>\n",
       "    <tr>\n",
       "      <th>3</th>\n",
       "      <td>2015-01-04</td>\n",
       "      <td>shot</td>\n",
       "      <td>toy weapon</td>\n",
       "      <td>32</td>\n",
       "      <td>M</td>\n",
       "      <td>W</td>\n",
       "      <td>San Francisco</td>\n",
       "      <td>CA</td>\n",
       "      <td>True</td>\n",
       "      <td>attack</td>\n",
       "      <td>Not fleeing</td>\n",
       "      <td>False</td>\n",
       "    </tr>\n",
       "    <tr>\n",
       "      <th>4</th>\n",
       "      <td>2015-01-04</td>\n",
       "      <td>shot</td>\n",
       "      <td>nail gun</td>\n",
       "      <td>39</td>\n",
       "      <td>M</td>\n",
       "      <td>H</td>\n",
       "      <td>Evans</td>\n",
       "      <td>CO</td>\n",
       "      <td>False</td>\n",
       "      <td>attack</td>\n",
       "      <td>Not fleeing</td>\n",
       "      <td>False</td>\n",
       "    </tr>\n",
       "    <tr>\n",
       "      <th>...</th>\n",
       "      <td>...</td>\n",
       "      <td>...</td>\n",
       "      <td>...</td>\n",
       "      <td>...</td>\n",
       "      <td>...</td>\n",
       "      <td>...</td>\n",
       "      <td>...</td>\n",
       "      <td>...</td>\n",
       "      <td>...</td>\n",
       "      <td>...</td>\n",
       "      <td>...</td>\n",
       "      <td>...</td>\n",
       "    </tr>\n",
       "    <tr>\n",
       "      <th>6941</th>\n",
       "      <td>2022-07-11</td>\n",
       "      <td>shot</td>\n",
       "      <td>undetermined</td>\n",
       "      <td>27</td>\n",
       "      <td>M</td>\n",
       "      <td>U</td>\n",
       "      <td>Mason</td>\n",
       "      <td>OH</td>\n",
       "      <td>False</td>\n",
       "      <td>undetermined</td>\n",
       "      <td>U</td>\n",
       "      <td>False</td>\n",
       "    </tr>\n",
       "    <tr>\n",
       "      <th>6942</th>\n",
       "      <td>2022-07-12</td>\n",
       "      <td>shot</td>\n",
       "      <td>gun</td>\n",
       "      <td>65</td>\n",
       "      <td>M</td>\n",
       "      <td>U</td>\n",
       "      <td>Clearcreek Township</td>\n",
       "      <td>OH</td>\n",
       "      <td>False</td>\n",
       "      <td>attack</td>\n",
       "      <td>U</td>\n",
       "      <td>False</td>\n",
       "    </tr>\n",
       "    <tr>\n",
       "      <th>6943</th>\n",
       "      <td>2022-07-13</td>\n",
       "      <td>shot</td>\n",
       "      <td>undetermined</td>\n",
       "      <td>20</td>\n",
       "      <td>M</td>\n",
       "      <td>U</td>\n",
       "      <td>Minneapolis</td>\n",
       "      <td>MN</td>\n",
       "      <td>False</td>\n",
       "      <td>undetermined</td>\n",
       "      <td>U</td>\n",
       "      <td>False</td>\n",
       "    </tr>\n",
       "    <tr>\n",
       "      <th>6944</th>\n",
       "      <td>2022-07-13</td>\n",
       "      <td>shot</td>\n",
       "      <td>knife</td>\n",
       "      <td>20</td>\n",
       "      <td>M</td>\n",
       "      <td>U</td>\n",
       "      <td>Henrico County</td>\n",
       "      <td>VA</td>\n",
       "      <td>True</td>\n",
       "      <td>other</td>\n",
       "      <td>U</td>\n",
       "      <td>True</td>\n",
       "    </tr>\n",
       "    <tr>\n",
       "      <th>6945</th>\n",
       "      <td>2022-07-13</td>\n",
       "      <td>shot</td>\n",
       "      <td>gun</td>\n",
       "      <td>31</td>\n",
       "      <td>M</td>\n",
       "      <td>U</td>\n",
       "      <td>Grand Prairie</td>\n",
       "      <td>TX</td>\n",
       "      <td>False</td>\n",
       "      <td>other</td>\n",
       "      <td>Foot</td>\n",
       "      <td>False</td>\n",
       "    </tr>\n",
       "  </tbody>\n",
       "</table>\n",
       "<p>6946 rows × 12 columns</p>\n",
       "</div>"
      ],
      "text/plain": [
       "           date   manner_of_death         armed  age gender race  \\\n",
       "0    2015-01-02              shot           gun   53      M    A   \n",
       "1    2015-01-02              shot           gun   47      M    W   \n",
       "2    2015-01-03  shot and Tasered       unarmed   23      M    H   \n",
       "3    2015-01-04              shot    toy weapon   32      M    W   \n",
       "4    2015-01-04              shot      nail gun   39      M    H   \n",
       "...         ...               ...           ...  ...    ...  ...   \n",
       "6941 2022-07-11              shot  undetermined   27      M    U   \n",
       "6942 2022-07-12              shot           gun   65      M    U   \n",
       "6943 2022-07-13              shot  undetermined   20      M    U   \n",
       "6944 2022-07-13              shot         knife   20      M    U   \n",
       "6945 2022-07-13              shot           gun   31      M    U   \n",
       "\n",
       "                     city state  signs_of_mental_illness  threat_level  \\\n",
       "0                 Shelton    WA                     True        attack   \n",
       "1                   Aloha    OR                    False        attack   \n",
       "2                 Wichita    KS                    False         other   \n",
       "3           San Francisco    CA                     True        attack   \n",
       "4                   Evans    CO                    False        attack   \n",
       "...                   ...   ...                      ...           ...   \n",
       "6941                Mason    OH                    False  undetermined   \n",
       "6942  Clearcreek Township    OH                    False        attack   \n",
       "6943          Minneapolis    MN                    False  undetermined   \n",
       "6944       Henrico County    VA                     True         other   \n",
       "6945        Grand Prairie    TX                    False         other   \n",
       "\n",
       "             flee  body_camera  \n",
       "0     Not fleeing        False  \n",
       "1     Not fleeing        False  \n",
       "2     Not fleeing        False  \n",
       "3     Not fleeing        False  \n",
       "4     Not fleeing        False  \n",
       "...           ...          ...  \n",
       "6941            U        False  \n",
       "6942            U        False  \n",
       "6943            U        False  \n",
       "6944            U         True  \n",
       "6945         Foot        False  \n",
       "\n",
       "[6946 rows x 12 columns]"
      ]
     },
     "execution_count": 22,
     "metadata": {},
     "output_type": "execute_result"
    }
   ],
   "source": [
    "df3 = pd.read_excel('430_Project_FINAL_HARTH.xlsx')\n",
    "df3"
   ]
  },
  {
   "cell_type": "markdown",
   "id": "40b42401",
   "metadata": {},
   "source": [
    "### Because less than 2% of the individuals have a 0 age, I am going to drop those rows. The data will still be statistically signifigant and I plan on continuing with this project beyond the course. I can probably identify most if not all of the ages via a Google search later on down the road. "
   ]
  },
  {
   "cell_type": "code",
   "execution_count": 23,
   "id": "b9621d89",
   "metadata": {
    "scrolled": true
   },
   "outputs": [
    {
     "name": "stdout",
     "output_type": "stream",
     "text": [
      "0\n"
     ]
    }
   ],
   "source": [
    "df2 = df.loc[df[\"age\"] > 0]\n",
    "age_zero2 = (df2['age'] == 0).sum()\n",
    "print(age_zero2)"
   ]
  },
  {
   "cell_type": "markdown",
   "id": "0cdb3eba",
   "metadata": {},
   "source": [
    "### So, after dropping the 0 ages, the mean age didnt change that drastically (shifting to 37 from 36). The middle 50% is still 27-45, which indicates that the 0 values were really only shifting the mean slightly. "
   ]
  },
  {
   "cell_type": "code",
   "execution_count": 24,
   "id": "938a4005",
   "metadata": {},
   "outputs": [
    {
     "data": {
      "text/plain": [
       "count    7041.000000\n",
       "mean       37.120011\n",
       "std        12.927516\n",
       "min         2.000000\n",
       "25%        27.000000\n",
       "50%        35.000000\n",
       "75%        45.000000\n",
       "max        91.000000\n",
       "Name: age, dtype: float64"
      ]
     },
     "execution_count": 24,
     "metadata": {},
     "output_type": "execute_result"
    }
   ],
   "source": [
    "df2['age'].describe()"
   ]
  },
  {
   "cell_type": "markdown",
   "id": "15f9853d",
   "metadata": {},
   "source": [
    "### Building a density plot:"
   ]
  },
  {
   "cell_type": "code",
   "execution_count": 25,
   "id": "1884b12c",
   "metadata": {
    "scrolled": false
   },
   "outputs": [
    {
     "data": {
      "text/plain": [
       "<Figure size 1152x576 with 0 Axes>"
      ]
     },
     "execution_count": 25,
     "metadata": {},
     "output_type": "execute_result"
    },
    {
     "data": {
      "text/plain": [
       "<matplotlib.collections.PathCollection at 0x7fa162ff4a00>"
      ]
     },
     "execution_count": 25,
     "metadata": {},
     "output_type": "execute_result"
    },
    {
     "data": {
      "image/png": "[encoded data removed]",
      "text/plain": [
       "<Figure size 1152x576 with 1 Axes>"
      ]
     },
     "metadata": {},
     "output_type": "display_data"
    }
   ],
   "source": [
    "def pdf(x):\n",
    "    mean = np.mean(x)\n",
    "    std = np.std(x)\n",
    "    y_out = 1/(std * np.sqrt(2 * np.pi)) * np.exp( - (x - mean)**2 / (2 * std**2))\n",
    "    return y_out\n",
    "\n",
    "x = df2['age']\n",
    "y = pdf(x)\n",
    "\n",
    "# Plotting the bell-shaped curve\n",
    "plt.style.use('seaborn')\n",
    "plt.figure(figsize = (16, 8))\n",
    "plt.scatter( x, y, marker = 'o', s = 20, color = 'red')\n",
    "plt.show()"
   ]
  },
  {
   "cell_type": "markdown",
   "id": "1d88b5c8",
   "metadata": {},
   "source": [
    "### The density plot shows a heavy skew to the right even after removing the 0 ages."
   ]
  },
  {
   "cell_type": "markdown",
   "id": "8b1ccb21",
   "metadata": {},
   "source": [
    "### Getting a better macro view using a boxplot in Seaborn:"
   ]
  },
  {
   "cell_type": "code",
   "execution_count": 26,
   "id": "38083187",
   "metadata": {
    "scrolled": true
   },
   "outputs": [
    {
     "data": {
      "text/plain": [
       "<Figure size 1296x288 with 0 Axes>"
      ]
     },
     "execution_count": 26,
     "metadata": {},
     "output_type": "execute_result"
    },
    {
     "data": {
      "text/plain": [
       "Text(0.5, 1.0, 'Boxplot of Ages of Individuals who were Shot & Killed by LE 2015 - Present Day')"
      ]
     },
     "execution_count": 26,
     "metadata": {},
     "output_type": "execute_result"
    },
    {
     "data": {
      "text/plain": [
       "Text(0.5, 0, 'Individual Age')"
      ]
     },
     "execution_count": 26,
     "metadata": {},
     "output_type": "execute_result"
    },
    {
     "data": {
      "image/png": "[encoded data removed]",
      "text/plain": [
       "<Figure size 1296x288 with 1 Axes>"
      ]
     },
     "metadata": {},
     "output_type": "display_data"
    }
   ],
   "source": [
    "sns.set(style = 'whitegrid')\n",
    "plt.figure(figsize = (18, 4))\n",
    "boxplot = sns.boxplot( x=df2[\"age\"], palette=\"Blues\", width=0.3 )\n",
    "boxplot.axes.set_title(\"Boxplot of Ages of Individuals who were Shot & Killed by LE 2015 - Present Day\", fontsize=16)\n",
    "boxplot.set_xlabel(\"Individual Age\", fontsize=14)\n",
    "plt.show()"
   ]
  },
  {
   "cell_type": "markdown",
   "id": "222e11bb",
   "metadata": {},
   "source": [
    "## This a solid plot that tells a story. \n",
    "\n",
    "### 1 - The range of actual ages is far more signifigant that I had originally thought. Its not just 1-2 outliers causing the range to run from 2 to 91. \n",
    "\n",
    "### 2 - 50% of the individuals on the list reside between 27-45, which is generally what I expected\n",
    "\n",
    "### 3 - Using just the \"age\" column, It is very difficult to say with certainty that a police officer will be more likely to fataly engage with an individual of a specific age. We can say with 95% certainty that if a LEO fataly engages with an individual that they will be between the ages of 11 & 63. However, in terms of leveraging a statisticaly signifigant statement to help better inform law enforcement it is clear that children and elderly could still create a situation that ends with a fatality. "
   ]
  },
  {
   "cell_type": "markdown",
   "id": "668ef86b",
   "metadata": {},
   "source": [
    "## Using a violin plot to better visualize the spread and range of ages:"
   ]
  },
  {
   "cell_type": "code",
   "execution_count": 27,
   "id": "993840e7",
   "metadata": {
    "scrolled": true
   },
   "outputs": [
    {
     "data": {
      "text/plain": [
       "<Figure size 1296x432 with 0 Axes>"
      ]
     },
     "execution_count": 27,
     "metadata": {},
     "output_type": "execute_result"
    },
    {
     "data": {
      "text/plain": [
       "Text(0.5, 1.0, 'Violinplot of Ages of Individuals who were Shot & Killed by LE 2015 - Present Day')"
      ]
     },
     "execution_count": 27,
     "metadata": {},
     "output_type": "execute_result"
    },
    {
     "data": {
      "text/plain": [
       "Text(0.5, 0, 'Individual Age')"
      ]
     },
     "execution_count": 27,
     "metadata": {},
     "output_type": "execute_result"
    },
    {
     "data": {
      "image/png": "[encoded data removed]",
      "text/plain": [
       "<Figure size 1296x432 with 1 Axes>"
      ]
     },
     "metadata": {},
     "output_type": "display_data"
    }
   ],
   "source": [
    "sns.set(style = 'whitegrid')\n",
    "plt.figure(figsize = (18, 6))\n",
    "violinplot = sns.violinplot( x=df2[\"age\"], palette=\"Blues\" )\n",
    "violinplot.axes.set_title(\"Violinplot of Ages of Individuals who were Shot & Killed by LE 2015 - Present Day\", fontsize=16)\n",
    "violinplot.set_xlabel(\"Individual Age\", fontsize=14)\n",
    "plt.show()"
   ]
  },
  {
   "cell_type": "markdown",
   "id": "812b893e",
   "metadata": {},
   "source": [
    "### I actually prefer the violin plot in the instance. It better visualizes the 95% probability and the spread at each specific age across the full range. "
   ]
  },
  {
   "cell_type": "markdown",
   "id": "41564e4c",
   "metadata": {},
   "source": [
    "## Creating a histogram for further visual analysis:"
   ]
  },
  {
   "cell_type": "code",
   "execution_count": 28,
   "id": "45350333",
   "metadata": {},
   "outputs": [
    {
     "data": {
      "text/plain": [
       "<Figure size 1296x720 with 0 Axes>"
      ]
     },
     "execution_count": 28,
     "metadata": {},
     "output_type": "execute_result"
    },
    {
     "data": {
      "text/plain": [
       "Text(0.5, 1.0, 'Histogram of Ages of Individuals who were Shot & Killed by LE 2015 - Present Day')"
      ]
     },
     "execution_count": 28,
     "metadata": {},
     "output_type": "execute_result"
    },
    {
     "data": {
      "text/plain": [
       "Text(0.5, 0, 'Individual Age')"
      ]
     },
     "execution_count": 28,
     "metadata": {},
     "output_type": "execute_result"
    },
    {
     "data": {
      "text/plain": [
       "([<matplotlib.axis.XTick at 0x7fa1630994e0>,\n",
       "  <matplotlib.axis.XTick at 0x7fa163099510>,\n",
       "  <matplotlib.axis.XTick at 0x7fa162f443a0>,\n",
       "  <matplotlib.axis.XTick at 0x7fa162f44af0>,\n",
       "  <matplotlib.axis.XTick at 0x7fa162f45240>,\n",
       "  <matplotlib.axis.XTick at 0x7fa162f45990>,\n",
       "  <matplotlib.axis.XTick at 0x7fa162f460e0>,\n",
       "  <matplotlib.axis.XTick at 0x7fa1630cc250>,\n",
       "  <matplotlib.axis.XTick at 0x7fa163047c10>,\n",
       "  <matplotlib.axis.XTick at 0x7fa162f445e0>,\n",
       "  <matplotlib.axis.XTick at 0x7fa163047f70>,\n",
       "  <matplotlib.axis.XTick at 0x7fa162f478e0>,\n",
       "  <matplotlib.axis.XTick at 0x7fa162f46380>,\n",
       "  <matplotlib.axis.XTick at 0x7fa162f487c0>,\n",
       "  <matplotlib.axis.XTick at 0x7fa162f48f10>,\n",
       "  <matplotlib.axis.XTick at 0x7fa162f49660>,\n",
       "  <matplotlib.axis.XTick at 0x7fa162f49db0>,\n",
       "  <matplotlib.axis.XTick at 0x7fa162f44850>],\n",
       " [Text(0, 0, ''),\n",
       "  Text(0, 0, ''),\n",
       "  Text(0, 0, ''),\n",
       "  Text(0, 0, ''),\n",
       "  Text(0, 0, ''),\n",
       "  Text(0, 0, ''),\n",
       "  Text(0, 0, ''),\n",
       "  Text(0, 0, ''),\n",
       "  Text(0, 0, ''),\n",
       "  Text(0, 0, ''),\n",
       "  Text(0, 0, ''),\n",
       "  Text(0, 0, ''),\n",
       "  Text(0, 0, ''),\n",
       "  Text(0, 0, ''),\n",
       "  Text(0, 0, ''),\n",
       "  Text(0, 0, ''),\n",
       "  Text(0, 0, ''),\n",
       "  Text(0, 0, '')])"
      ]
     },
     "execution_count": 28,
     "metadata": {},
     "output_type": "execute_result"
    },
    {
     "data": {
      "image/png": "[encoded data removed]",
      "text/plain": [
       "<Figure size 1296x720 with 1 Axes>"
      ]
     },
     "metadata": {},
     "output_type": "display_data"
    }
   ],
   "source": [
    "sns.set(style = 'whitegrid')\n",
    "plt.figure(figsize = (18, 10))\n",
    "histogram = sns.histplot(x=df2[\"age\"], color=\"Navy\", bins=89, kde=True)\n",
    "histogram.tick_params(axis=\"x\", labelrotation=90)\n",
    "histogram.axes.set_title(\"Histogram of Ages of Individuals who were Shot & Killed by LE 2015 - Present Day\", fontsize=16)\n",
    "histogram.set_xlabel(\"Individual Age\", fontsize=14)\n",
    "plt.xticks([5,10,15,20,25,30,35,40,45,50,55,60,65,70,75,80,85,90])\n",
    "plt.show()"
   ]
  },
  {
   "cell_type": "markdown",
   "id": "e8c2786c",
   "metadata": {},
   "source": [
    "### The histogram provides a much more granular look at each age across the range. The first thing that stands out is skew to the right, which indicates there are signifgantly more \"elderly\" (elderly = age >70) than ther are children if we define a \"child\" as having an age < 15. "
   ]
  },
  {
   "cell_type": "markdown",
   "id": "7ec63332",
   "metadata": {},
   "source": [
    "### Looking more closely at the under 15 age values:"
   ]
  },
  {
   "cell_type": "code",
   "execution_count": 29,
   "id": "20a94ea2",
   "metadata": {},
   "outputs": [
    {
     "data": {
      "text/plain": [
       "0       53\n",
       "1       47\n",
       "2       23\n",
       "3       32\n",
       "4       39\n",
       "        ..\n",
       "7555    27\n",
       "7556    65\n",
       "7557    20\n",
       "7559    20\n",
       "7561    31\n",
       "Name: age, Length: 7041, dtype: int64"
      ]
     },
     "execution_count": 29,
     "metadata": {},
     "output_type": "execute_result"
    },
    {
     "name": "stdout",
     "output_type": "stream",
     "text": [
      "<class 'pandas.core.series.Series'>\n",
      "Int64Index: 7041 entries, 0 to 7561\n",
      "Series name: age\n",
      "Non-Null Count  Dtype\n",
      "--------------  -----\n",
      "7041 non-null   int64\n",
      "dtypes: int64(1)\n",
      "memory usage: 368.1 KB\n",
      "<class 'pandas.core.series.Series'>\n",
      "Int64Index: 14 entries, 833 to 7449\n",
      "Series name: age\n",
      "Non-Null Count  Dtype\n",
      "--------------  -----\n",
      "14 non-null     int64\n",
      "dtypes: int64(1)\n",
      "memory usage: 224.0 bytes\n"
     ]
    }
   ],
   "source": [
    "age_column = df2['age']\n",
    "age_column\n",
    "age_column.info()\n",
    "\n",
    "#Looking at the numbers for under 15 years old:\n",
    "under15 = df2[df2['age'] < 15]\n",
    "under15['age'].info()"
   ]
  },
  {
   "cell_type": "markdown",
   "id": "e85dc930",
   "metadata": {},
   "source": [
    "### 14 individuals out of 7041 under the age of 15:"
   ]
  },
  {
   "cell_type": "code",
   "execution_count": 30,
   "id": "abc3a6f3",
   "metadata": {},
   "outputs": [
    {
     "name": "stdout",
     "output_type": "stream",
     "text": [
      "0.20% of indiviuals fataly shot by LE since 2015 are under the age of 15.\n"
     ]
    }
   ],
   "source": [
    "percentBelow15 = (14/7041)*100\n",
    "print(f\"{percentBelow15:.2f}% of indiviuals fataly shot by LE since 2015 are under the age of 15.\")"
   ]
  },
  {
   "cell_type": "markdown",
   "id": "b7b833e0",
   "metadata": {},
   "source": [
    "### So, less than 1% of all individuals are below the age of 15."
   ]
  },
  {
   "cell_type": "markdown",
   "id": "6f494a5b",
   "metadata": {},
   "source": [
    "## CONCLUSION ON \"AGE\""
   ]
  },
  {
   "cell_type": "markdown",
   "id": "8092a152",
   "metadata": {},
   "source": [
    "### Being that the age column is the only numerical value set in my data frame I wanted to drill down and understand what i soccuring at a granular level. I also wanted to be sure I had appropriately cleaned the data for further analysis (regression) as part of a larger model. \n",
    "\n",
    "### There were no major suprises, but a few smaller things that I was not expecting. \n",
    "\n",
    "### Moving forward, this portion of the data set should be a great variable to leverage as part of the regression analysis. "
   ]
  },
  {
   "cell_type": "code",
   "execution_count": 31,
   "id": "dffac67f",
   "metadata": {},
   "outputs": [
    {
     "data": {
      "text/plain": [
       "M    6710\n",
       "F     326\n",
       "U       5\n",
       "Name: gender, dtype: int64"
      ]
     },
     "execution_count": 31,
     "metadata": {},
     "output_type": "execute_result"
    }
   ],
   "source": [
    "df2['gender'].value_counts()"
   ]
  },
  {
   "cell_type": "code",
   "execution_count": 33,
   "id": "816a665f",
   "metadata": {},
   "outputs": [
    {
     "name": "stdout",
     "output_type": "stream",
     "text": [
      "Of the 7041 individuals in the data frame who were shot and killed by a LEO since 2015, 95.30% were male and 4.63% were female. 5 individuals were of unknown gender.\n"
     ]
    }
   ],
   "source": [
    "percentMale = (6710/7041)*100\n",
    "percentFemale = (326/7041)*100\n",
    "print(f\"Of the 7041 individuals in the data frame who were shot and killed by a LEO since 2015, {percentMale:.2f}% were male and {percentFemale:.2f}% were female. 5 individuals were of unknown gender.\")"
   ]
  },
  {
   "cell_type": "markdown",
   "id": "9269e550",
   "metadata": {},
   "source": [
    "### This information and analysis confirms my initial assumption that most individuals were male"
   ]
  },
  {
   "cell_type": "markdown",
   "id": "8cc1fe57",
   "metadata": {},
   "source": [
    "# Looking at Race"
   ]
  },
  {
   "cell_type": "markdown",
   "id": "87f645bf",
   "metadata": {},
   "source": [
    "### - 'race' = White \"W\", Asian \"A\", or Black \"B\", Hispanic \"H\", Other \"O\", Unknown \"U\""
   ]
  },
  {
   "cell_type": "code",
   "execution_count": 34,
   "id": "b9249153",
   "metadata": {},
   "outputs": [
    {
     "data": {
      "text/plain": [
       "W    3093\n",
       "B    1617\n",
       "H    1072\n",
       "U    1013\n",
       "A     105\n",
       "N      95\n",
       "O      46\n",
       "Name: race, dtype: int64"
      ]
     },
     "execution_count": 34,
     "metadata": {},
     "output_type": "execute_result"
    }
   ],
   "source": [
    "df2['race'].value_counts()"
   ]
  },
  {
   "cell_type": "markdown",
   "id": "b9b564a2",
   "metadata": {},
   "source": [
    "### There is no identification for what the N column is, so I will remove those 95 individuals from the data frame."
   ]
  },
  {
   "cell_type": "code",
   "execution_count": 35,
   "id": "963e1f17",
   "metadata": {},
   "outputs": [
    {
     "data": {
      "text/plain": [
       "W    3093\n",
       "B    1617\n",
       "H    1072\n",
       "U    1013\n",
       "A     105\n",
       "O      46\n",
       "Name: race, dtype: int64"
      ]
     },
     "execution_count": 35,
     "metadata": {},
     "output_type": "execute_result"
    },
    {
     "data": {
      "text/html": [
       "<div>\n",
       "<style scoped>\n",
       "    .dataframe tbody tr th:only-of-type {\n",
       "        vertical-align: middle;\n",
       "    }\n",
       "\n",
       "    .dataframe tbody tr th {\n",
       "        vertical-align: top;\n",
       "    }\n",
       "\n",
       "    .dataframe thead th {\n",
       "        text-align: right;\n",
       "    }\n",
       "</style>\n",
       "<table border=\"1\" class=\"dataframe\">\n",
       "  <thead>\n",
       "    <tr style=\"text-align: right;\">\n",
       "      <th></th>\n",
       "      <th>date</th>\n",
       "      <th>manner_of_death</th>\n",
       "      <th>armed</th>\n",
       "      <th>age</th>\n",
       "      <th>gender</th>\n",
       "      <th>race</th>\n",
       "      <th>city</th>\n",
       "      <th>state</th>\n",
       "      <th>signs_of_mental_illness</th>\n",
       "      <th>threat_level</th>\n",
       "      <th>flee</th>\n",
       "      <th>body_camera</th>\n",
       "    </tr>\n",
       "  </thead>\n",
       "  <tbody>\n",
       "    <tr>\n",
       "      <th>0</th>\n",
       "      <td>2015-01-02</td>\n",
       "      <td>shot</td>\n",
       "      <td>gun</td>\n",
       "      <td>53</td>\n",
       "      <td>M</td>\n",
       "      <td>A</td>\n",
       "      <td>Shelton</td>\n",
       "      <td>WA</td>\n",
       "      <td>True</td>\n",
       "      <td>attack</td>\n",
       "      <td>Not fleeing</td>\n",
       "      <td>False</td>\n",
       "    </tr>\n",
       "    <tr>\n",
       "      <th>1</th>\n",
       "      <td>2015-01-02</td>\n",
       "      <td>shot</td>\n",
       "      <td>gun</td>\n",
       "      <td>47</td>\n",
       "      <td>M</td>\n",
       "      <td>W</td>\n",
       "      <td>Aloha</td>\n",
       "      <td>OR</td>\n",
       "      <td>False</td>\n",
       "      <td>attack</td>\n",
       "      <td>Not fleeing</td>\n",
       "      <td>False</td>\n",
       "    </tr>\n",
       "    <tr>\n",
       "      <th>2</th>\n",
       "      <td>2015-01-03</td>\n",
       "      <td>shot and Tasered</td>\n",
       "      <td>unarmed</td>\n",
       "      <td>23</td>\n",
       "      <td>M</td>\n",
       "      <td>H</td>\n",
       "      <td>Wichita</td>\n",
       "      <td>KS</td>\n",
       "      <td>False</td>\n",
       "      <td>other</td>\n",
       "      <td>Not fleeing</td>\n",
       "      <td>False</td>\n",
       "    </tr>\n",
       "    <tr>\n",
       "      <th>3</th>\n",
       "      <td>2015-01-04</td>\n",
       "      <td>shot</td>\n",
       "      <td>toy weapon</td>\n",
       "      <td>32</td>\n",
       "      <td>M</td>\n",
       "      <td>W</td>\n",
       "      <td>San Francisco</td>\n",
       "      <td>CA</td>\n",
       "      <td>True</td>\n",
       "      <td>attack</td>\n",
       "      <td>Not fleeing</td>\n",
       "      <td>False</td>\n",
       "    </tr>\n",
       "    <tr>\n",
       "      <th>4</th>\n",
       "      <td>2015-01-04</td>\n",
       "      <td>shot</td>\n",
       "      <td>nail gun</td>\n",
       "      <td>39</td>\n",
       "      <td>M</td>\n",
       "      <td>H</td>\n",
       "      <td>Evans</td>\n",
       "      <td>CO</td>\n",
       "      <td>False</td>\n",
       "      <td>attack</td>\n",
       "      <td>Not fleeing</td>\n",
       "      <td>False</td>\n",
       "    </tr>\n",
       "    <tr>\n",
       "      <th>...</th>\n",
       "      <td>...</td>\n",
       "      <td>...</td>\n",
       "      <td>...</td>\n",
       "      <td>...</td>\n",
       "      <td>...</td>\n",
       "      <td>...</td>\n",
       "      <td>...</td>\n",
       "      <td>...</td>\n",
       "      <td>...</td>\n",
       "      <td>...</td>\n",
       "      <td>...</td>\n",
       "      <td>...</td>\n",
       "    </tr>\n",
       "    <tr>\n",
       "      <th>7555</th>\n",
       "      <td>2022-07-11</td>\n",
       "      <td>shot</td>\n",
       "      <td>undetermined</td>\n",
       "      <td>27</td>\n",
       "      <td>M</td>\n",
       "      <td>U</td>\n",
       "      <td>Mason</td>\n",
       "      <td>OH</td>\n",
       "      <td>False</td>\n",
       "      <td>undetermined</td>\n",
       "      <td>U</td>\n",
       "      <td>False</td>\n",
       "    </tr>\n",
       "    <tr>\n",
       "      <th>7556</th>\n",
       "      <td>2022-07-12</td>\n",
       "      <td>shot</td>\n",
       "      <td>gun</td>\n",
       "      <td>65</td>\n",
       "      <td>M</td>\n",
       "      <td>U</td>\n",
       "      <td>Clearcreek Township</td>\n",
       "      <td>OH</td>\n",
       "      <td>False</td>\n",
       "      <td>attack</td>\n",
       "      <td>U</td>\n",
       "      <td>False</td>\n",
       "    </tr>\n",
       "    <tr>\n",
       "      <th>7557</th>\n",
       "      <td>2022-07-13</td>\n",
       "      <td>shot</td>\n",
       "      <td>undetermined</td>\n",
       "      <td>20</td>\n",
       "      <td>M</td>\n",
       "      <td>U</td>\n",
       "      <td>Minneapolis</td>\n",
       "      <td>MN</td>\n",
       "      <td>False</td>\n",
       "      <td>undetermined</td>\n",
       "      <td>U</td>\n",
       "      <td>False</td>\n",
       "    </tr>\n",
       "    <tr>\n",
       "      <th>7559</th>\n",
       "      <td>2022-07-13</td>\n",
       "      <td>shot</td>\n",
       "      <td>knife</td>\n",
       "      <td>20</td>\n",
       "      <td>M</td>\n",
       "      <td>U</td>\n",
       "      <td>Henrico County</td>\n",
       "      <td>VA</td>\n",
       "      <td>True</td>\n",
       "      <td>other</td>\n",
       "      <td>U</td>\n",
       "      <td>True</td>\n",
       "    </tr>\n",
       "    <tr>\n",
       "      <th>7561</th>\n",
       "      <td>2022-07-13</td>\n",
       "      <td>shot</td>\n",
       "      <td>gun</td>\n",
       "      <td>31</td>\n",
       "      <td>M</td>\n",
       "      <td>U</td>\n",
       "      <td>Grand Prairie</td>\n",
       "      <td>TX</td>\n",
       "      <td>False</td>\n",
       "      <td>other</td>\n",
       "      <td>Foot</td>\n",
       "      <td>False</td>\n",
       "    </tr>\n",
       "  </tbody>\n",
       "</table>\n",
       "<p>6946 rows × 12 columns</p>\n",
       "</div>"
      ],
      "text/plain": [
       "           date   manner_of_death         armed  age gender race  \\\n",
       "0    2015-01-02              shot           gun   53      M    A   \n",
       "1    2015-01-02              shot           gun   47      M    W   \n",
       "2    2015-01-03  shot and Tasered       unarmed   23      M    H   \n",
       "3    2015-01-04              shot    toy weapon   32      M    W   \n",
       "4    2015-01-04              shot      nail gun   39      M    H   \n",
       "...         ...               ...           ...  ...    ...  ...   \n",
       "7555 2022-07-11              shot  undetermined   27      M    U   \n",
       "7556 2022-07-12              shot           gun   65      M    U   \n",
       "7557 2022-07-13              shot  undetermined   20      M    U   \n",
       "7559 2022-07-13              shot         knife   20      M    U   \n",
       "7561 2022-07-13              shot           gun   31      M    U   \n",
       "\n",
       "                     city state  signs_of_mental_illness  threat_level  \\\n",
       "0                 Shelton    WA                     True        attack   \n",
       "1                   Aloha    OR                    False        attack   \n",
       "2                 Wichita    KS                    False         other   \n",
       "3           San Francisco    CA                     True        attack   \n",
       "4                   Evans    CO                    False        attack   \n",
       "...                   ...   ...                      ...           ...   \n",
       "7555                Mason    OH                    False  undetermined   \n",
       "7556  Clearcreek Township    OH                    False        attack   \n",
       "7557          Minneapolis    MN                    False  undetermined   \n",
       "7559       Henrico County    VA                     True         other   \n",
       "7561        Grand Prairie    TX                    False         other   \n",
       "\n",
       "             flee  body_camera  \n",
       "0     Not fleeing        False  \n",
       "1     Not fleeing        False  \n",
       "2     Not fleeing        False  \n",
       "3     Not fleeing        False  \n",
       "4     Not fleeing        False  \n",
       "...           ...          ...  \n",
       "7555            U        False  \n",
       "7556            U        False  \n",
       "7557            U        False  \n",
       "7559            U         True  \n",
       "7561         Foot        False  \n",
       "\n",
       "[6946 rows x 12 columns]"
      ]
     },
     "execution_count": 35,
     "metadata": {},
     "output_type": "execute_result"
    }
   ],
   "source": [
    "df3 = df2.loc[df[\"race\"] != 'N']\n",
    "df3['race'].value_counts()\n",
    "df3"
   ]
  },
  {
   "cell_type": "code",
   "execution_count": 36,
   "id": "119ab50f",
   "metadata": {
    "scrolled": true
   },
   "outputs": [
    {
     "data": {
      "text/plain": [
       "<Figure size 1296x576 with 0 Axes>"
      ]
     },
     "execution_count": 36,
     "metadata": {},
     "output_type": "execute_result"
    },
    {
     "data": {
      "text/plain": [
       "Text(0.5, 1.0, 'Races of Individuals who were Shot & Killed by LE 2015 - Present Day')"
      ]
     },
     "execution_count": 36,
     "metadata": {},
     "output_type": "execute_result"
    },
    {
     "data": {
      "text/plain": [
       "Text(0.5, 0, 'Individual Race')"
      ]
     },
     "execution_count": 36,
     "metadata": {},
     "output_type": "execute_result"
    },
    {
     "data": {
      "image/png": "[encoded data removed]",
      "text/plain": [
       "<Figure size 1296x576 with 1 Axes>"
      ]
     },
     "metadata": {},
     "output_type": "display_data"
    }
   ],
   "source": [
    "plt.figure(figsize = (18, 8))\n",
    "barchart = sns.countplot(data=df3, x='race', order=df3.race.value_counts().index )\n",
    "barchart.axes.set_title(\"Races of Individuals who were Shot & Killed by LE 2015 - Present Day\", fontsize=16)\n",
    "barchart.set_xlabel(\"Individual Race\", fontsize=14)\n",
    "plt.show()"
   ]
  },
  {
   "cell_type": "code",
   "execution_count": 37,
   "id": "741b4314",
   "metadata": {},
   "outputs": [
    {
     "data": {
      "text/plain": [
       "99.99999999999997"
      ]
     },
     "execution_count": 37,
     "metadata": {},
     "output_type": "execute_result"
    }
   ],
   "source": [
    "# 2020 US CENSUS RACE PERCENTAGE = https://www.census.gov/quickfacts/fact/table/US/RHI125221#RHI125221\n",
    "white = 59.3 \n",
    "Hispanic = 18.9\n",
    "black = 13.6\n",
    "Asian = 6.1\n",
    "Other = 2.1\n",
    "59.3 + 18.9 + 13.6 + 6.1 + 2.1"
   ]
  },
  {
   "cell_type": "code",
   "execution_count": 38,
   "id": "42fb0033",
   "metadata": {},
   "outputs": [
    {
     "data": {
      "text/plain": [
       "W    44.529225\n",
       "B    23.279585\n",
       "H    15.433343\n",
       "U    14.583933\n",
       "A     1.511661\n",
       "O     0.662252\n",
       "Name: race, dtype: float64"
      ]
     },
     "execution_count": 38,
     "metadata": {},
     "output_type": "execute_result"
    }
   ],
   "source": [
    "df3['race'].value_counts(normalize=True) * 100"
   ]
  },
  {
   "cell_type": "code",
   "execution_count": 39,
   "id": "b4926f3e",
   "metadata": {},
   "outputs": [
    {
     "name": "stdout",
     "output_type": "stream",
     "text": [
      "Of the 7041 individuals shot and killed by a LEO since 2015, 44.5% where white, 23.28% were black, 15.43% were hispanic, 14.58% were unkown, 1.51% were asian, and 0.66% were other\n"
     ]
    }
   ],
   "source": [
    "print(f\"Of the 7041 individuals shot and killed by a LEO since 2015, 44.5% where white, 23.28% were black, 15.43% were hispanic, 14.58% were unkown, 1.51% were asian, and 0.66% were other\")"
   ]
  },
  {
   "cell_type": "markdown",
   "id": "9ebdde2d",
   "metadata": {},
   "source": [
    "### One of the graphics the Washington Post displays is a comparison of the number of individuals by race per million in the US. "
   ]
  },
  {
   "cell_type": "markdown",
   "id": "c0ece4c8",
   "metadata": {},
   "source": [
    "white = 59.3 vs 44.5 <br>\n",
    "black = 13.6 vs 23.3 <br>\n",
    "hispanic = 18.9 vs 15.4 <br>\n",
    "asian = 6.1 vs 1.5 <br>\n",
    "other = 2.1 vs 0.6 <br>"
   ]
  },
  {
   "cell_type": "markdown",
   "id": "3b022b5e",
   "metadata": {},
   "source": [
    "### My intention here is not to refute the Post, just to present objective facts.\n",
    "\n",
    "### I hypothesized that the majority of the individuals would be male and white, which the data supports."
   ]
  },
  {
   "cell_type": "markdown",
   "id": "1ac25a45",
   "metadata": {},
   "source": [
    "# SUMMARY"
   ]
  },
  {
   "cell_type": "markdown",
   "id": "6af904f6",
   "metadata": {},
   "source": [
    "Provide a summary of your project. "
   ]
  },
  {
   "cell_type": "markdown",
   "id": "1c99a650",
   "metadata": {},
   "source": [
    "After initial exploratory data anlysis there is signifigant potential for further analytics to identify correlation between variables and to look for potential ways to better infrom law enforcement on the most statistically signifigant combination of variables. \n",
    "\n",
    "The overall intent of this project is reduce/eliminate fatal police encounters. Eliminating these events may prove to be impossible, but there is certainly room to drastically reduce the amount of fatal encounters through objective data anlysis combined with education and refined policing procedures. (I say this a former law-enforcement officer and career special operations operator)\n",
    "\n",
    "Educating law enforcement officers on these types of encounters will help them to better identify variables and possibly alter their tactics in a way that still ensures as much safety for them, the individual, and the public. "
   ]
  },
  {
   "cell_type": "markdown",
   "id": "d4da3066",
   "metadata": {},
   "source": [
    "## DIFFICULTIES"
   ]
  },
  {
   "cell_type": "markdown",
   "id": "4a951745",
   "metadata": {},
   "source": [
    "The largest difficulty in this type of project is that it involes attempting to prduct human behavior through math and data, which requires an equation with variables. Human behavior is impacted, affected, and effected by near infinite variables, which present a conundrum when trying to identify an algorithm for predictive and prescriptive analytics. \n",
    "\n",
    "The data set includes some relevant variables, but ultimately much more data is required to ttruly evaluate these encounters. \n",
    "\n",
    "Body cameras are a step in the right direction, but they will still never provide a finite number of variables for analysis. "
   ]
  },
  {
   "cell_type": "markdown",
   "id": "5f6bdad7",
   "metadata": {},
   "source": [
    "# CONCLUSION"
   ]
  },
  {
   "cell_type": "markdown",
   "id": "f4d3bb3c",
   "metadata": {},
   "source": [
    "Data science is pointless without an objective application that provides some type of value or ROI. \n",
    "\n",
    "Leveraging data and analytics for good (vs commercialism) is a necessity to continue to improve society and overall quality of life. That is the desired end-state of this study. \n",
    "\n",
    "No one should die at the hands of another human, especialy those charged to serve and protect. However, the situations that police officers find themselves in are incredibly dynamic, dangerous, and involve making split-second decisions. Those decision can have impact on a global scale. \n",
    "\n",
    "If a small bit of data analysis can positively alter even one of these encounters then the ROI is nearly infinite. "
   ]
  },
  {
   "cell_type": "markdown",
   "id": "b89e54d0",
   "metadata": {},
   "source": [
    "# NEXT STEPS"
   ]
  },
  {
   "cell_type": "markdown",
   "id": "101405d6",
   "metadata": {},
   "source": [
    "The immediate next steps are to perform analytics on the data to identify correlation between variables and then build models to help better inform law enforcement on the statistically relevant combination of variables that lead to fatal encounters with the public. \n",
    "\n",
    "Looking at the 0 ages to see if in fact they are pregnant women and then reading them back into the data frame. \n",
    "\n",
    "Looking at the outlier engagements in regards to age to ensure they are accurate and either correcting them or eliminating them as necessary. \n",
    "\n",
    "As a part of a larger project, looking to collect the available body camera footage and conducting analysis on the data included using machine learning could possibly illuminate variables that humans are not able to percieve. "
   ]
  }
 ],
 "metadata": {
  "kernelspec": {
   "display_name": "Python 3 (ipykernel)",
   "language": "python",
   "name": "python3"
  },
  "language_info": {
   "codemirror_mode": {
    "name": "ipython",
    "version": 3
   },
   "file_extension": ".py",
   "mimetype": "text/x-python",
   "name": "python",
   "nbconvert_exporter": "python",
   "pygments_lexer": "ipython3",
   "version": "3.10.4"
  }
 },
 "nbformat": 4,
 "nbformat_minor": 5
}
